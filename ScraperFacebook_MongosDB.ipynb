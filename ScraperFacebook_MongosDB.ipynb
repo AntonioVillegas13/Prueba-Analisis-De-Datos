{
 "cells": [
  {
   "cell_type": "code",
   "execution_count": 1,
   "id": "5c7cc786",
   "metadata": {},
   "outputs": [],
   "source": [
    "from facebook_scraper import get_posts\n",
    "import time\n",
    "from pymongo import MongoClient"
   ]
  },
  {
   "cell_type": "code",
   "execution_count": 3,
   "id": "7b5fff79",
   "metadata": {},
   "outputs": [
    {
     "name": "stdout",
     "output_type": "stream",
     "text": [
      "MongoDB connection: Success\n"
     ]
    }
   ],
   "source": [
    "CLIENT = MongoClient('mongodb://localhost:27017')\n",
    "\n",
    "CLIENT.admin.command('ismaster')\n",
    "db=CLIENT['Nintendo']\n",
    "colect=db['PostNintendo']\n",
    "\n",
    "try:\n",
    "    CLIENT.admin.command('ismaster')\n",
    "    print('MongoDB connection: Success')\n",
    "except ConnectionFailure as cf:\n",
    "    print('MongoDB connection: failed', cf)\n",
    "\n"
   ]
  },
  {
   "cell_type": "code",
   "execution_count": null,
   "id": "477d3b12",
   "metadata": {},
   "outputs": [],
   "source": [
    "i=1\n",
    "BUSQUEDA='NintendoLatAm' # nombre del tema que se va a buscar o pagina\n",
    "for post in get_posts(BUSQUEDA, pages=50, extra_info=True):\n",
    "      \n",
    "    print(i)\n",
    "    i=i+1\n",
    "    time.sleep(5)\n",
    "    id=post['post_id']\n",
    "    mydate=post['time']\n",
    "    try:        \n",
    "        datos={\n",
    "            'id':id,\n",
    "            'texto':post['text'],\n",
    "            'Date':mydate.timestamp(),\n",
    "            'likes':post['likes'],\n",
    "            'Comentarios':post['comments'],\n",
    "            'Shares':post['shares'],\n",
    "            'reactions':post['reactions'],\n",
    "            'post_url':post['post_url']\n",
    "        }\n",
    "        \n",
    "        colect.insert_one(datos)\n",
    "        print(\"guardado exitosamente\")\n",
    "    except Exception as e:    \n",
    "        print(\"no se pudo grabar:\" + str(e))\n",
    "            \n",
    "print('Se termino el scraping')"
   ]
  }
 ],
 "metadata": {
  "kernelspec": {
   "display_name": "Python 3 (ipykernel)",
   "language": "python",
   "name": "python3"
  },
  "language_info": {
   "codemirror_mode": {
    "name": "ipython",
    "version": 3
   },
   "file_extension": ".py",
   "mimetype": "text/x-python",
   "name": "python",
   "nbconvert_exporter": "python",
   "pygments_lexer": "ipython3",
   "version": "3.10.1"
  }
 },
 "nbformat": 4,
 "nbformat_minor": 5
}
