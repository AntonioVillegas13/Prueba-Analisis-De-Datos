{
 "cells": [
  {
   "cell_type": "code",
   "execution_count": null,
   "id": "9d3bdcea-fe1e-46a7-9546-d40c32f979da",
   "metadata": {},
   "outputs": [],
   "source": [
    "\n",
    "import tweepy\n",
    "import json\n",
    "from twython import Twython, TwythonError\n",
    "import requests\n",
    "from pymongo import MongoClient "
   ]
  },
  {
   "cell_type": "code",
   "execution_count": null,
   "id": "d672a4de-7913-4cdc-9f6d-e1d9ad27c0da",
   "metadata": {},
   "outputs": [],
   "source": [
    "###API ########################\n",
    "ckey = \"BZDRUfaXo49Sd77rundshFaeO\"\n",
    "csecret = \"GaJ59gqr9xHuwg8aBDs9sfdEiIfLMno6zSp53SL5FEOEkls8rl\"\n",
    "atoken = \"1485635032844746757-4iQH0YAccGKQpYH9KPYUyJ42FDQBuP\"\n",
    "asecret = \"hlSbkJmqS27A81QWELhpEVT1pm9BVUTx0lRAxv9uNPVTW\"\n",
    "#####################################"
   ]
  },
  {
   "cell_type": "code",
   "execution_count": null,
   "id": "ff7b3549-2415-4ff5-a1d5-5fa711a46aa4",
   "metadata": {},
   "outputs": [],
   "source": [
    "class listener (tweepy.Stream):\n",
    "    def on_data(self, data):\n",
    "        dictTweet = json.loads(data)\n",
    "        try:\n",
    "            dictTweet[\"_id\"] = str(dictTweet['id'])\n",
    "            doc = col.insert_one(dictTweet)\n",
    "            print (\"SAVED\" +str (doc) + \"=>\"+ str(data))\n",
    "        except:\n",
    "            print(\"Already exists\")\n",
    "            pass\n",
    "        return True\n",
    "    def on_error(self, status):\n",
    "        print(status)"
   ]
  },
  {
   "cell_type": "code",
   "execution_count": null,
   "id": "9230b9d5-6dca-4b83-8859-910f1637b0cf",
   "metadata": {},
   "outputs": [],
   "source": [
    "try:\n",
    "    client = MongoClient('mongodb://localhost:27017')\n",
    "    client.server_info()\n",
    "    print(\"Conexion exitosa\")\n",
    "    client.close\n",
    "except pymongo.errors.ServerSelectionTimeoutError as errorTiempo:\n",
    "    print(\"Conexión rechazada\")    \n",
    "\n",
    "dbm = client['dato_twitter']\n",
    "col = dbm['dato_twitter']\n",
    "\n",
    "    \n",
    "\n",
    "twitter_stream = listener(ckey, csecret, atoken, asecret )\n"
   ]
  },
  {
   "cell_type": "code",
   "execution_count": null,
   "id": "60e0cf9f-1562-4b60-ad03-0feb4e1c0bc8",
   "metadata": {},
   "outputs": [],
   "source": [
    "twitter_stream.filter(track=['gamer'])"
   ]
  },
  {
   "cell_type": "code",
   "execution_count": null,
   "id": "f3df385d-fe7e-4422-b233-0d6027279933",
   "metadata": {},
   "outputs": [],
   "source": []
  },
  {
   "cell_type": "code",
   "execution_count": null,
   "id": "2067613a",
   "metadata": {},
   "outputs": [],
   "source": []
  },
  {
   "cell_type": "code",
   "execution_count": null,
   "id": "5dd55fbb",
   "metadata": {},
   "outputs": [],
   "source": []
  }
 ],
 "metadata": {
  "kernelspec": {
   "display_name": "Python 3 (ipykernel)",
   "language": "python",
   "name": "python3"
  },
  "language_info": {
   "codemirror_mode": {
    "name": "ipython",
    "version": 3
   },
   "file_extension": ".py",
   "mimetype": "text/x-python",
   "name": "python",
   "nbconvert_exporter": "python",
   "pygments_lexer": "ipython3",
   "version": "3.8.0"
  }
 },
 "nbformat": 4,
 "nbformat_minor": 5
}
